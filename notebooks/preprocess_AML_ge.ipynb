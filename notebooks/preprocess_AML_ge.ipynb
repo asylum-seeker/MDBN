{
 "cells": [
  {
   "cell_type": "code",
   "execution_count": 1,
   "metadata": {
    "collapsed": false
   },
   "outputs": [
    {
     "name": "stderr",
     "output_type": "stream",
     "text": [
      "ERROR (theano.sandbox.cuda): ERROR: Not using GPU. Initialisation of device gpu failed:\n",
      "initCnmem: cnmemInit call failed! Reason=CNMEM_STATUS_OUT_OF_MEMORY. numdev=1\n",
      "\n"
     ]
    }
   ],
   "source": [
    "import os\n",
    "import numpy as np\n",
    "import theano\n",
    "import re"
   ]
  },
  {
   "cell_type": "code",
   "execution_count": 2,
   "metadata": {
    "collapsed": false
   },
   "outputs": [
    {
     "data": {
      "text/plain": [
       "'/Users/gluca/SoftwareProjects/Thesis/MDBN/notebooks'"
      ]
     },
     "execution_count": 2,
     "metadata": {},
     "output_type": "execute_result"
    }
   ],
   "source": [
    "os.getcwd()"
   ]
  },
  {
   "cell_type": "code",
   "execution_count": 3,
   "metadata": {
    "collapsed": false
   },
   "outputs": [],
   "source": [
    "file='../data/AML/AML_gene_expression2.csv'"
   ]
  },
  {
   "cell_type": "code",
   "execution_count": 5,
   "metadata": {
    "collapsed": false
   },
   "outputs": [],
   "source": [
    "patient = dict()\n",
    "p = re.compile('TCGA-[^-]+-[0-9]+')\n",
    "with open(file) as f:\n",
    "    record = f.readline().split(',')\n",
    "    while True:\n",
    "        record = f.readline().split(',')\n",
    "        if record[0] == '':\n",
    "            break;\n",
    "        m = p.match(record[0])\n",
    "        patient_id=m.group()\n",
    "        if not patient_id in patient:\n",
    "            patient[patient_id] = dict()\n",
    "        if record[1] != 'sample':\n",
    "            patient[patient_id][record[1]] = float(record[2])"
   ]
  },
  {
   "cell_type": "markdown",
   "metadata": {},
   "source": [
    "Number of patients"
   ]
  },
  {
   "cell_type": "code",
   "execution_count": 6,
   "metadata": {
    "collapsed": false
   },
   "outputs": [
    {
     "data": {
      "text/plain": [
       "173"
      ]
     },
     "execution_count": 6,
     "metadata": {},
     "output_type": "execute_result"
    }
   ],
   "source": [
    "len(patient.keys())"
   ]
  },
  {
   "cell_type": "markdown",
   "metadata": {},
   "source": [
    "Number of genes"
   ]
  },
  {
   "cell_type": "code",
   "execution_count": 7,
   "metadata": {
    "collapsed": false
   },
   "outputs": [
    {
     "name": "stdout",
     "output_type": "stream",
     "text": [
      "20531\n"
     ]
    }
   ],
   "source": [
    "for k,v in patient.iteritems():\n",
    "    genes=v.keys()\n",
    "    print(len(genes))\n",
    "    break"
   ]
  },
  {
   "cell_type": "code",
   "execution_count": 11,
   "metadata": {
    "collapsed": true
   },
   "outputs": [],
   "source": [
    "file2 = '../data/AML/AML_gene_expression_table.csv'"
   ]
  },
  {
   "cell_type": "code",
   "execution_count": 12,
   "metadata": {
    "collapsed": false
   },
   "outputs": [],
   "source": [
    "with open(file2,'w') as out:\n",
    "    out.write('ID')\n",
    "    patient_list = sorted(patient.keys())\n",
    "    for patient_id in patient_list:\n",
    "        out.write('\\t')\n",
    "        out.write(patient_id)\n",
    "    out.write('\\n')\n",
    "    for gene in genes:\n",
    "        out.write(gene)\n",
    "        for patient_id in patient_list:\n",
    "            out.write('\\t')\n",
    "            out.write(str(patient[patient_id][gene]))\n",
    "        out.write('\\n')\n",
    "    out.close()"
   ]
  },
  {
   "cell_type": "code",
   "execution_count": null,
   "metadata": {
    "collapsed": true
   },
   "outputs": [],
   "source": []
  }
 ],
 "metadata": {
  "kernelspec": {
   "display_name": "Python 2",
   "language": "python",
   "name": "python2"
  },
  "language_info": {
   "codemirror_mode": {
    "name": "ipython",
    "version": 2
   },
   "file_extension": ".py",
   "mimetype": "text/x-python",
   "name": "python",
   "nbconvert_exporter": "python",
   "pygments_lexer": "ipython2",
   "version": "2.7.11"
  }
 },
 "nbformat": 4,
 "nbformat_minor": 0
}
